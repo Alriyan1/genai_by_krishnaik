{
 "cells": [
  {
   "cell_type": "code",
   "execution_count": 2,
   "id": "cd095eb5",
   "metadata": {},
   "outputs": [],
   "source": [
    "from langchain_groq import ChatGroq\n",
    "from langchain_core.messages import HumanMessage,SystemMessage"
   ]
  },
  {
   "cell_type": "code",
   "execution_count": 3,
   "id": "78984a11",
   "metadata": {},
   "outputs": [
    {
     "data": {
      "text/plain": [
       "ChatGroq(client=<groq.resources.chat.completions.Completions object at 0x00000260A3D31A90>, async_client=<groq.resources.chat.completions.AsyncCompletions object at 0x00000260A3D327B0>, model_name='Gemma2-9b-It', model_kwargs={}, groq_api_key=SecretStr('**********'))"
      ]
     },
     "execution_count": 3,
     "metadata": {},
     "output_type": "execute_result"
    }
   ],
   "source": [
    "model=ChatGroq(model='Gemma2-9b-It',groq_api_key='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')\n",
    "model"
   ]
  },
  {
   "cell_type": "code",
   "execution_count": 4,
   "id": "55f87e5c",
   "metadata": {},
   "outputs": [
    {
     "data": {
      "text/plain": [
       "AIMessage(content=\"Hello Al Riyan Khan! It's nice to meet you. \\n\\nAs an ML Engineer, what kind of projects are you working on these days?  \\n\\nI'm always interested in learning more about the exciting work being done in machine learning. 😊\\n\\n\", additional_kwargs={}, response_metadata={'token_usage': {'completion_tokens': 57, 'prompt_tokens': 24, 'total_tokens': 81, 'completion_time': 0.103636364, 'prompt_time': 0.002090367, 'queue_time': 0.24476969199999998, 'total_time': 0.105726731}, 'model_name': 'Gemma2-9b-It', 'system_fingerprint': 'fp_10c08bf97d', 'finish_reason': 'stop', 'logprobs': None}, id='run--1085cb8d-0af3-43cb-8a9d-fd680df188a4-0', usage_metadata={'input_tokens': 24, 'output_tokens': 57, 'total_tokens': 81})"
      ]
     },
     "execution_count": 4,
     "metadata": {},
     "output_type": "execute_result"
    }
   ],
   "source": [
    "model.invoke([HumanMessage(content='Hi,my name is Al Riyan Khan and I am a ML Engineer')])"
   ]
  },
  {
   "cell_type": "code",
   "execution_count": 5,
   "id": "51a56fdb",
   "metadata": {},
   "outputs": [
    {
     "data": {
      "text/plain": [
       "AIMessage(content=\"You told me your name is Al Riyan and that you are an ML Engineer!  \\n\\nIs there anything else you'd like to tell me about yourself or your work? 😄  \\n\", additional_kwargs={}, response_metadata={'token_usage': {'completion_tokens': 41, 'prompt_tokens': 97, 'total_tokens': 138, 'completion_time': 0.074545455, 'prompt_time': 0.004348496, 'queue_time': 0.24599043299999998, 'total_time': 0.078893951}, 'model_name': 'Gemma2-9b-It', 'system_fingerprint': 'fp_10c08bf97d', 'finish_reason': 'stop', 'logprobs': None}, id='run--81e9a2d2-b7bb-4a90-98ef-11b81de8dcd7-0', usage_metadata={'input_tokens': 97, 'output_tokens': 41, 'total_tokens': 138})"
      ]
     },
     "execution_count": 5,
     "metadata": {},
     "output_type": "execute_result"
    }
   ],
   "source": [
    "from langchain_core.messages import AIMessage\n",
    "model.invoke(\n",
    "    [\n",
    "        HumanMessage(content='Hi my name Alriyan and i am a ml engineer'),\n",
    "        AIMessage(content=\"Hi Al Riyan Khan, it's nice to meet you!\\n\\nBeing an ML Engineer is a fascinating field. What kind of projects are you working on these days? \\n\\nI'm always eager to learn more about the work people are doing in machine learning.\"),\n",
    "        HumanMessage(content='hey what is my name and what do i do?')\n",
    "    ]\n",
    ")"
   ]
  },
  {
   "cell_type": "code",
   "execution_count": 6,
   "id": "53e7e1a8",
   "metadata": {},
   "outputs": [],
   "source": [
    "from langchain_community.chat_message_histories import ChatMessageHistory\n",
    "from langchain_core.chat_history import BaseChatMessageHistory\n",
    "from langchain_core.runnables.history import RunnableWithMessageHistory"
   ]
  },
  {
   "cell_type": "code",
   "execution_count": 7,
   "id": "2b46ff8f",
   "metadata": {},
   "outputs": [],
   "source": [
    "store={}\n",
    "\n",
    "def get_session_history(session_id:str)->BaseChatMessageHistory:\n",
    "    if session_id not in store:\n",
    "        store[session_id]=ChatMessageHistory()\n",
    "    return store[session_id]\n",
    "\n",
    "with_message_history=RunnableWithMessageHistory(model,get_session_history)"
   ]
  },
  {
   "cell_type": "code",
   "execution_count": 8,
   "id": "7e32158e",
   "metadata": {},
   "outputs": [],
   "source": [
    "config = {'configurable':{'session_id':'chat1'}}"
   ]
  },
  {
   "cell_type": "code",
   "execution_count": 9,
   "id": "35af0e2b",
   "metadata": {},
   "outputs": [
    {
     "data": {
      "text/plain": [
       "AIMessage(content=\"Hello Al Riyan Khan, it's nice to meet you!\\n\\nIt's great to know you're an ML Engineer. That's a fascinating field.\\n\\nIs there anything specific you'd like to talk about related to machine learning? Perhaps you have a project you're working on, a question about a particular algorithm, or just want to discuss the latest advancements in the field?\\n\\nI'm here to help in any way I can.\\n\", additional_kwargs={}, response_metadata={'token_usage': {'completion_tokens': 98, 'prompt_tokens': 23, 'total_tokens': 121, 'completion_time': 0.178181818, 'prompt_time': 0.002127317, 'queue_time': 0.243995863, 'total_time': 0.180309135}, 'model_name': 'Gemma2-9b-It', 'system_fingerprint': 'fp_10c08bf97d', 'finish_reason': 'stop', 'logprobs': None}, id='run--b4160543-744d-4b9f-b3cf-52594bc3fb90-0', usage_metadata={'input_tokens': 23, 'output_tokens': 98, 'total_tokens': 121})"
      ]
     },
     "execution_count": 9,
     "metadata": {},
     "output_type": "execute_result"
    }
   ],
   "source": [
    "with_message_history.invoke(\n",
    "    [HumanMessage(content=\"hi my name is Al Riyan Khan and i am a ml engineer\")],\n",
    "    config=config\n",
    ")"
   ]
  },
  {
   "cell_type": "code",
   "execution_count": 10,
   "id": "3a61e2f3",
   "metadata": {},
   "outputs": [
    {
     "data": {
      "text/plain": [
       "AIMessage(content='Your name is Al Riyan Khan. 😊  I remember that from our introduction! \\n\\n\\nIs there anything else I can help you with?\\n', additional_kwargs={}, response_metadata={'token_usage': {'completion_tokens': 32, 'prompt_tokens': 133, 'total_tokens': 165, 'completion_time': 0.058181818, 'prompt_time': 0.005685203, 'queue_time': 0.24626392700000002, 'total_time': 0.063867021}, 'model_name': 'Gemma2-9b-It', 'system_fingerprint': 'fp_10c08bf97d', 'finish_reason': 'stop', 'logprobs': None}, id='run--40f1cc8e-a6eb-402c-b86f-3343bad30119-0', usage_metadata={'input_tokens': 133, 'output_tokens': 32, 'total_tokens': 165})"
      ]
     },
     "execution_count": 10,
     "metadata": {},
     "output_type": "execute_result"
    }
   ],
   "source": [
    "with_message_history.invoke(\n",
    "    [HumanMessage(content=\"what is my name\")],\n",
    "    config=config\n",
    ")"
   ]
  },
  {
   "cell_type": "code",
   "execution_count": 11,
   "id": "43bfaaae",
   "metadata": {},
   "outputs": [
    {
     "data": {
      "text/plain": [
       "AIMessage(content=\"As an AI, I have no memory of past conversations and don't know your name. If you'd like to tell me, I'm happy to use it! 😄\\n\", additional_kwargs={}, response_metadata={'token_usage': {'completion_tokens': 40, 'prompt_tokens': 13, 'total_tokens': 53, 'completion_time': 0.072727273, 'prompt_time': 0.001923828, 'queue_time': 0.24344184200000002, 'total_time': 0.074651101}, 'model_name': 'Gemma2-9b-It', 'system_fingerprint': 'fp_10c08bf97d', 'finish_reason': 'stop', 'logprobs': None}, id='run--4c60e456-9cd8-4bd5-bfdd-b4e129912d21-0', usage_metadata={'input_tokens': 13, 'output_tokens': 40, 'total_tokens': 53})"
      ]
     },
     "execution_count": 11,
     "metadata": {},
     "output_type": "execute_result"
    }
   ],
   "source": [
    "config={'configurable':{'session_id':'chat2'}}\n",
    "with_message_history.invoke(\n",
    "    [HumanMessage(content=\"what is my name\")],\n",
    "    config=config\n",
    ")"
   ]
  },
  {
   "cell_type": "code",
   "execution_count": 12,
   "id": "42375dc6",
   "metadata": {},
   "outputs": [
    {
     "data": {
      "text/plain": [
       "AIMessage(content=\"It's nice to meet you, Khushi! 😊\\n\\nIs there anything I can help you with today?\\n\", additional_kwargs={}, response_metadata={'token_usage': {'completion_tokens': 26, 'prompt_tokens': 66, 'total_tokens': 92, 'completion_time': 0.047272727, 'prompt_time': 0.003684486, 'queue_time': 0.244227454, 'total_time': 0.050957213}, 'model_name': 'Gemma2-9b-It', 'system_fingerprint': 'fp_10c08bf97d', 'finish_reason': 'stop', 'logprobs': None}, id='run--d3283f48-84d7-4c24-ba94-bc0f51f20ca4-0', usage_metadata={'input_tokens': 66, 'output_tokens': 26, 'total_tokens': 92})"
      ]
     },
     "execution_count": 12,
     "metadata": {},
     "output_type": "execute_result"
    }
   ],
   "source": [
    "with_message_history.invoke(\n",
    "    [HumanMessage(content=\"my name is khushi\")],\n",
    "    config=config\n",
    ")"
   ]
  },
  {
   "cell_type": "code",
   "execution_count": 13,
   "id": "c4acf1de",
   "metadata": {},
   "outputs": [
    {
     "data": {
      "text/plain": [
       "AIMessage(content='Your name is Khushi!  \\n\\nI remember that you told me earlier. 😊 \\n\\nDo you have any other questions for me?\\n', additional_kwargs={}, response_metadata={'token_usage': {'completion_tokens': 31, 'prompt_tokens': 104, 'total_tokens': 135, 'completion_time': 0.056363636, 'prompt_time': 0.005093915, 'queue_time': 0.246110035, 'total_time': 0.061457551}, 'model_name': 'Gemma2-9b-It', 'system_fingerprint': 'fp_10c08bf97d', 'finish_reason': 'stop', 'logprobs': None}, id='run--cf401f4d-192b-4b95-adb9-32e092e86fe5-0', usage_metadata={'input_tokens': 104, 'output_tokens': 31, 'total_tokens': 135})"
      ]
     },
     "execution_count": 13,
     "metadata": {},
     "output_type": "execute_result"
    }
   ],
   "source": [
    "with_message_history.invoke(\n",
    "    [HumanMessage(content=\"what is my name\")],\n",
    "    config=config\n",
    ")"
   ]
  },
  {
   "cell_type": "code",
   "execution_count": 14,
   "id": "16040441",
   "metadata": {},
   "outputs": [],
   "source": [
    "from langchain_core.prompts import ChatPromptTemplate,MessagesPlaceholder\n",
    "prompt = ChatPromptTemplate.from_messages(\n",
    "    [\n",
    "        ('system','you are a helpful assistant. answer all the question to the best of your ability'),\n",
    "        MessagesPlaceholder(variable_name='messages')\n",
    "    ]\n",
    ")\n",
    "chain=prompt|model"
   ]
  },
  {
   "cell_type": "code",
   "execution_count": 16,
   "id": "803f891f",
   "metadata": {},
   "outputs": [
    {
     "data": {
      "text/plain": [
       "AIMessage(content=\"Hello Alriyan! It's nice to meet you.\\n\\nI'm happy to answer any questions you have to the best of my ability. Just ask away! 😊  \\n\", additional_kwargs={}, response_metadata={'token_usage': {'completion_tokens': 40, 'prompt_tokens': 32, 'total_tokens': 72, 'completion_time': 0.072727273, 'prompt_time': 0.002356976, 'queue_time': 0.243999943, 'total_time': 0.075084249}, 'model_name': 'Gemma2-9b-It', 'system_fingerprint': 'fp_10c08bf97d', 'finish_reason': 'stop', 'logprobs': None}, id='run--90d37455-67a3-4b73-b608-aa3130c715c1-0', usage_metadata={'input_tokens': 32, 'output_tokens': 40, 'total_tokens': 72})"
      ]
     },
     "execution_count": 16,
     "metadata": {},
     "output_type": "execute_result"
    }
   ],
   "source": [
    "chain.invoke({'messages':[HumanMessage(content='Hi my name is alriyan')]})"
   ]
  },
  {
   "cell_type": "code",
   "execution_count": 17,
   "id": "3c27e5e5",
   "metadata": {},
   "outputs": [],
   "source": [
    "with_message_history=RunnableWithMessageHistory(chain,get_session_history)"
   ]
  },
  {
   "cell_type": "code",
   "execution_count": 19,
   "id": "36e58fe9",
   "metadata": {},
   "outputs": [
    {
     "data": {
      "text/plain": [
       "AIMessage(content=\"Hi Alriyan! 😊\\n\\nIt's great to meet you too.  What can I help you with today?  😊  \\n\", additional_kwargs={}, response_metadata={'token_usage': {'completion_tokens': 31, 'prompt_tokens': 82, 'total_tokens': 113, 'completion_time': 0.056363636, 'prompt_time': 0.004996621, 'queue_time': 0.245863708, 'total_time': 0.061360257}, 'model_name': 'Gemma2-9b-It', 'system_fingerprint': 'fp_10c08bf97d', 'finish_reason': 'stop', 'logprobs': None}, id='run--c5531a3b-39c4-409e-9eaa-959e96cef6b0-0', usage_metadata={'input_tokens': 82, 'output_tokens': 31, 'total_tokens': 113})"
      ]
     },
     "execution_count": 19,
     "metadata": {},
     "output_type": "execute_result"
    }
   ],
   "source": [
    "config = {'configurable': {'session_id':'chat3'}}\n",
    "response = with_message_history.invoke(\n",
    "    [HumanMessage(content='hi my name is alriyan')],\n",
    "    config=config\n",
    ")\n",
    "response"
   ]
  },
  {
   "cell_type": "code",
   "execution_count": 20,
   "id": "93aac1e1",
   "metadata": {},
   "outputs": [
    {
     "data": {
      "text/plain": [
       "AIMessage(content='Your name is Alriyan!  \\n\\nIs there anything else I can help you with? 🙂 \\n', additional_kwargs={}, response_metadata={'token_usage': {'completion_tokens': 24, 'prompt_tokens': 125, 'total_tokens': 149, 'completion_time': 0.043636364, 'prompt_time': 0.0056362, 'queue_time': 0.243809809, 'total_time': 0.049272564}, 'model_name': 'Gemma2-9b-It', 'system_fingerprint': 'fp_10c08bf97d', 'finish_reason': 'stop', 'logprobs': None}, id='run--3109f4c7-523b-4cf1-9545-9fc16ad40ea6-0', usage_metadata={'input_tokens': 125, 'output_tokens': 24, 'total_tokens': 149})"
      ]
     },
     "execution_count": 20,
     "metadata": {},
     "output_type": "execute_result"
    }
   ],
   "source": [
    "with_message_history.invoke(\n",
    "    [HumanMessage(content=\"what is my name\")],\n",
    "    config=config\n",
    ")"
   ]
  },
  {
   "cell_type": "code",
   "execution_count": 21,
   "id": "d6dd166d",
   "metadata": {},
   "outputs": [],
   "source": [
    "prompt = ChatPromptTemplate.from_messages(\n",
    "    [\n",
    "        ('system','you are a helpful assistant. answer all the question to the best of your ability in {language}'),\n",
    "        MessagesPlaceholder(variable_name='messages')\n",
    "    ]\n",
    ")\n",
    "chain=prompt|model"
   ]
  },
  {
   "cell_type": "code",
   "execution_count": 22,
   "id": "1242a8a1",
   "metadata": {},
   "outputs": [
    {
     "data": {
      "text/plain": [
       "'Namaste Alriyan!  \\n\\nमैं आपकी मदद करने के लिए यहाँ हूँ। आपके कोई प्रश्न हैं?  😊 \\n'"
      ]
     },
     "execution_count": 22,
     "metadata": {},
     "output_type": "execute_result"
    }
   ],
   "source": [
    "response = chain.invoke({'messages':[HumanMessage(content='hi i am alriyan')],'language':'hindi'})\n",
    "response.content"
   ]
  },
  {
   "cell_type": "code",
   "execution_count": 23,
   "id": "b4e32d93",
   "metadata": {},
   "outputs": [],
   "source": [
    "with_message_history=RunnableWithMessageHistory(\n",
    "    chain,\n",
    "    get_session_history,\n",
    "    input_messages_key='messages'\n",
    ")"
   ]
  },
  {
   "cell_type": "code",
   "execution_count": 24,
   "id": "5dae1270",
   "metadata": {},
   "outputs": [],
   "source": [
    "config = {'configurable':{'session_id':'chat4'}}\n",
    "response=with_message_history.invoke(\n",
    "    {'messages':[HumanMessage(content='hi,i am alriyan')],'language':'hindi'},\n",
    "    config=config\n",
    ")"
   ]
  },
  {
   "cell_type": "code",
   "execution_count": 25,
   "id": "a68bb156",
   "metadata": {},
   "outputs": [
    {
     "data": {
      "text/plain": [
       "'नमस्ते अलरीयन! \\n\\nमुझे आपकी सहायता करने में खुशी हो रही है। आप क्या जानना चाहेंगे?  \\n'"
      ]
     },
     "execution_count": 25,
     "metadata": {},
     "output_type": "execute_result"
    }
   ],
   "source": [
    "response.content"
   ]
  },
  {
   "cell_type": "code",
   "execution_count": 30,
   "id": "43e5763c",
   "metadata": {},
   "outputs": [
    {
     "data": {
      "text/plain": [
       "[SystemMessage(content='you are a good assistant', additional_kwargs={}, response_metadata={}),\n",
       " HumanMessage(content='i like vanilla ice cream', additional_kwargs={}, response_metadata={}),\n",
       " AIMessage(content='nice', additional_kwargs={}, response_metadata={}),\n",
       " HumanMessage(content='what 2+2', additional_kwargs={}, response_metadata={}),\n",
       " AIMessage(content='4', additional_kwargs={}, response_metadata={}),\n",
       " HumanMessage(content='thanks', additional_kwargs={}, response_metadata={}),\n",
       " AIMessage(content='no problem', additional_kwargs={}, response_metadata={}),\n",
       " HumanMessage(content='having fun?', additional_kwargs={}, response_metadata={}),\n",
       " AIMessage(content='yes', additional_kwargs={}, response_metadata={})]"
      ]
     },
     "execution_count": 30,
     "metadata": {},
     "output_type": "execute_result"
    }
   ],
   "source": [
    "from langchain_core.messages import SystemMessage,trim_messages\n",
    "trimmer = trim_messages(\n",
    "    max_tokens=45,\n",
    "    strategy='last',\n",
    "    token_counter= model,\n",
    "    include_system=True,\n",
    "    allow_partial=False,\n",
    "    start_on='human'\n",
    ")\n",
    "\n",
    "messages = [\n",
    "    SystemMessage(content='you are a good assistant'),\n",
    "    HumanMessage(content='hi i am bob'),\n",
    "    AIMessage(content='hi'),\n",
    "    HumanMessage(content='i like vanilla ice cream'),\n",
    "    AIMessage(content='nice'),\n",
    "    HumanMessage(content='what 2+2'),\n",
    "    AIMessage(content='4'),\n",
    "    HumanMessage(content='thanks'),\n",
    "    AIMessage(content='no problem'),\n",
    "    HumanMessage(content='having fun?'),\n",
    "    AIMessage(content='yes'),\n",
    "]\n",
    "\n",
    "trimmer.invoke(messages)"
   ]
  },
  {
   "cell_type": "code",
   "execution_count": 31,
   "id": "b15afde9",
   "metadata": {},
   "outputs": [
    {
     "data": {
      "text/plain": [
       "\"As an AI, I don't have access to your personal information, including your ice cream preferences! \\n\\nWhat's your favorite flavor? Maybe I can tell you some fun facts about it. 😊🍦\\n\""
      ]
     },
     "execution_count": 31,
     "metadata": {},
     "output_type": "execute_result"
    }
   ],
   "source": [
    "from operator import itemgetter\n",
    "from langchain_core.runnables import RunnablePassthrough\n",
    "\n",
    "chain=(\n",
    "    RunnablePassthrough.assign(messages=itemgetter('messages')|trimmer)\n",
    "    | prompt\n",
    "    | model\n",
    ")\n",
    "\n",
    "response=chain.invoke(\n",
    "    {\n",
    "    'messages':messages+[HumanMessage(content='what ice cream do i like')],\n",
    "    'language':'english'\n",
    "\n",
    "    }\n",
    ")\n",
    "response.content"
   ]
  },
  {
   "cell_type": "code",
   "execution_count": 32,
   "id": "e9e89af0",
   "metadata": {},
   "outputs": [
    {
     "data": {
      "text/plain": [
       "'You asked what 2 + 2 equals.'"
      ]
     },
     "execution_count": 32,
     "metadata": {},
     "output_type": "execute_result"
    }
   ],
   "source": [
    "response=chain.invoke(\n",
    "    {\n",
    "    'messages':messages+[HumanMessage(content='what math problem did i ask')],\n",
    "    'language':'english'\n",
    "\n",
    "    }\n",
    ")\n",
    "response.content"
   ]
  },
  {
   "cell_type": "code",
   "execution_count": null,
   "id": "301e00be",
   "metadata": {},
   "outputs": [],
   "source": []
  }
 ],
 "metadata": {
  "kernelspec": {
   "display_name": "Python 3",
   "language": "python",
   "name": "python3"
  },
  "language_info": {
   "codemirror_mode": {
    "name": "ipython",
    "version": 3
   },
   "file_extension": ".py",
   "mimetype": "text/x-python",
   "name": "python",
   "nbconvert_exporter": "python",
   "pygments_lexer": "ipython3",
   "version": "3.13.4"
  }
 },
 "nbformat": 4,
 "nbformat_minor": 5
}
