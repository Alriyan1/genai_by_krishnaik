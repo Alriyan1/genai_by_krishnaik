{
 "cells": [
  {
   "cell_type": "code",
   "execution_count": 2,
   "id": "ead823bb",
   "metadata": {},
   "outputs": [],
   "source": [
    "from langchain_openai import ChatOpenAI\n",
    "from langchain_groq import ChatGroq"
   ]
  },
  {
   "cell_type": "code",
   "execution_count": 6,
   "id": "6463956f",
   "metadata": {},
   "outputs": [
    {
     "data": {
      "text/plain": [
       "ChatGroq(client=<groq.resources.chat.completions.Completions object at 0x000001F689B4C910>, async_client=<groq.resources.chat.completions.AsyncCompletions object at 0x000001F689B4D310>, model_name='Gemma2-9b-It', model_kwargs={}, groq_api_key=SecretStr('**********'))"
      ]
     },
     "execution_count": 6,
     "metadata": {},
     "output_type": "execute_result"
    }
   ],
   "source": [
    "model=ChatGroq(model='Gemma2-9b-It',groq_api_key='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')\n",
    "model"
   ]
  },
  {
   "cell_type": "code",
   "execution_count": 4,
   "id": "edb95841",
   "metadata": {},
   "outputs": [
    {
     "data": {
      "text/plain": [
       "ChatOpenAI(client=<openai.resources.chat.completions.completions.Completions object at 0x000001F688BB17F0>, async_client=<openai.resources.chat.completions.completions.AsyncCompletions object at 0x000001F688BB1D30>, root_client=<openai.OpenAI object at 0x000001F6888EB0E0>, root_async_client=<openai.AsyncOpenAI object at 0x000001F688BB1A90>, model_kwargs={}, openai_api_key=SecretStr('**********'))"
      ]
     },
     "execution_count": 4,
     "metadata": {},
     "output_type": "execute_result"
    }
   ],
   "source": [
    "model2=ChatOpenAI()\n",
    "model2"
   ]
  },
  {
   "cell_type": "code",
   "execution_count": 7,
   "id": "6f7de57e",
   "metadata": {},
   "outputs": [
    {
     "data": {
      "text/plain": [
       "AIMessage(content=\"Gemini LLM is a large language model (LLM) developed by **Google DeepMind**. \\n\\nHere's what we know about it:\\n\\n* **Multi-Modal:** Unlike many LLMs that focus solely on text, Gemini is designed to be **multi-modal**, meaning it can understand and generate not just text, but also other data types like images, audio, and video.\\n* **Reasoning and Planning:** Gemini is being developed with a strong emphasis on **reasoning and planning abilities**. This means it aims to go beyond simply generating text and be able to solve problems, make decisions, and plan actions.\\n* **Open-Weights:** Google has stated that Gemini will be an **open-weights** model, meaning its weights will be publicly accessible. This allows for greater transparency, collaboration, and community involvement in its development and improvement.\\n* **Still Under Development:** Gemini is still in its early stages of development and is not yet publicly available.\\n\\n**Potential Applications:**\\n\\nGemini's multi-modality and reasoning capabilities could lead to a wide range of applications, such as:\\n\\n* **Advanced chatbots:**  Gemini could power more sophisticated chatbots that can understand and respond to complex requests, engage in natural conversations, and even generate creative content.\\n* **Image and video understanding:**  Gemini could be used to analyze images and videos, identify objects and scenes, and understand their context.\\n* **Scientific discovery:** Gemini's reasoning abilities could be valuable for scientific research, helping to analyze data, identify patterns, and generate hypotheses.\\n* **Education:** Gemini could be used to create personalized learning experiences, provide interactive tutoring, and assist with research.\\n\\nIt's important to note that these are just potential applications, and the actual impact of Gemini will depend on how it is developed and deployed.\\n\\n\\nI hope this information is helpful! Please let me know if you have any other questions.\\n\", additional_kwargs={}, response_metadata={'token_usage': {'completion_tokens': 396, 'prompt_tokens': 15, 'total_tokens': 411, 'completion_time': 0.72, 'prompt_time': 0.002383249, 'queue_time': 0.25972699000000005, 'total_time': 0.722383249}, 'model_name': 'Gemma2-9b-It', 'system_fingerprint': 'fp_10c08bf97d', 'finish_reason': 'stop', 'logprobs': None}, id='run--720705ac-ef0f-45c0-a4d5-19d0c49538e2-0', usage_metadata={'input_tokens': 15, 'output_tokens': 396, 'total_tokens': 411})"
      ]
     },
     "execution_count": 7,
     "metadata": {},
     "output_type": "execute_result"
    }
   ],
   "source": [
    "model.invoke('what is gemini llm')"
   ]
  },
  {
   "cell_type": "code",
   "execution_count": 17,
   "id": "2b422172",
   "metadata": {},
   "outputs": [],
   "source": [
    "from langchain_core.messages import HumanMessage,SystemMessage\n",
    "\n",
    "input = 'how are you'\n",
    "messages=[\n",
    "    SystemMessage(content='Translate the following sentence from english to german'),\n",
    "    HumanMessage(content=input)\n",
    "]\n",
    "\n",
    "result=model.invoke(messages)"
   ]
  },
  {
   "cell_type": "code",
   "execution_count": 18,
   "id": "a317f270",
   "metadata": {},
   "outputs": [
    {
     "data": {
      "text/plain": [
       "'The most common way to translate \"how are you\" in German is:\\n\\n* **Wie geht es dir?** (informal, used with friends and family)\\n\\nFor more formal situations, you can use:\\n\\n* **Wie geht es Ihnen?** \\n\\n\\nLet me know if you have any other phrases you\\'d like translated!\\n'"
      ]
     },
     "execution_count": 18,
     "metadata": {},
     "output_type": "execute_result"
    }
   ],
   "source": [
    "from langchain_core.output_parsers import StrOutputParser\n",
    "parser=StrOutputParser()\n",
    "parser.invoke(result)"
   ]
  },
  {
   "cell_type": "code",
   "execution_count": 19,
   "id": "14c6693a",
   "metadata": {},
   "outputs": [
    {
     "data": {
      "text/plain": [
       "'The most common way to say \"how are you\" in German is:\\n\\n**Wie geht es dir?** (informal)\\n\\n**Wie geht es Ihnen?** (formal)\\n\\n\\nLet me know if you have any other phrases you\\'d like translated! \\n'"
      ]
     },
     "execution_count": 19,
     "metadata": {},
     "output_type": "execute_result"
    }
   ],
   "source": [
    "chain=model|parser\n",
    "chain.invoke(messages)"
   ]
  },
  {
   "cell_type": "code",
   "execution_count": 20,
   "id": "54115e9f",
   "metadata": {},
   "outputs": [],
   "source": [
    "from langchain_core.prompts import ChatPromptTemplate\n",
    "\n",
    "generic_template='Translate the following into {language}:'\n",
    "\n",
    "prompt=ChatPromptTemplate(\n",
    "    [\n",
    "        ('system',generic_template),\n",
    "        ('user','{text}')\n",
    "    ]\n",
    ")"
   ]
  },
  {
   "cell_type": "code",
   "execution_count": 21,
   "id": "d1451f62",
   "metadata": {},
   "outputs": [],
   "source": [
    "result=prompt.invoke({'language':'german','text':'hello'})"
   ]
  },
  {
   "cell_type": "code",
   "execution_count": 22,
   "id": "571ebeab",
   "metadata": {},
   "outputs": [
    {
     "data": {
      "text/plain": [
       "[SystemMessage(content='Translate the following into german:', additional_kwargs={}, response_metadata={}),\n",
       " HumanMessage(content='hello', additional_kwargs={}, response_metadata={})]"
      ]
     },
     "execution_count": 22,
     "metadata": {},
     "output_type": "execute_result"
    }
   ],
   "source": [
    "result.to_messages()"
   ]
  },
  {
   "cell_type": "code",
   "execution_count": 25,
   "id": "93285404",
   "metadata": {},
   "outputs": [
    {
     "data": {
      "text/plain": [
       "'Wissenschaftler (masculine) or Wissenschaftlerin (feminine)\\n\\n\\nYou would choose the masculine form \"Wissenschaftler\" for a male scientist and the feminine form \"Wissenschaftlerin\" for a female scientist.\\n'"
      ]
     },
     "execution_count": 25,
     "metadata": {},
     "output_type": "execute_result"
    }
   ],
   "source": [
    "chain = prompt|model|parser\n",
    "chain.invoke({'language':'german','text':'scientist'})"
   ]
  },
  {
   "cell_type": "code",
   "execution_count": null,
   "id": "67c5b0ac",
   "metadata": {},
   "outputs": [],
   "source": []
  }
 ],
 "metadata": {
  "kernelspec": {
   "display_name": "Python 3",
   "language": "python",
   "name": "python3"
  },
  "language_info": {
   "codemirror_mode": {
    "name": "ipython",
    "version": 3
   },
   "file_extension": ".py",
   "mimetype": "text/x-python",
   "name": "python",
   "nbconvert_exporter": "python",
   "pygments_lexer": "ipython3",
   "version": "3.13.4"
  }
 },
 "nbformat": 4,
 "nbformat_minor": 5
}
