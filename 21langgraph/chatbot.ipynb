{
  "nbformat": 4,
  "nbformat_minor": 0,
  "metadata": {
    "colab": {
      "provenance": [],
      "gpuType": "T4"
    },
    "kernelspec": {
      "name": "python3",
      "display_name": "Python 3"
    },
    "language_info": {
      "name": "python"
    },
    "accelerator": "GPU"
  },
  "cells": [
    {
      "cell_type": "code",
      "execution_count": 2,
      "metadata": {
        "colab": {
          "base_uri": "https://localhost:8080/"
        },
        "id": "KGzsXeuO7aZg",
        "outputId": "93956be8-4e67-452d-c80a-bcd9a01c4854"
      },
      "outputs": [
        {
          "output_type": "stream",
          "name": "stdout",
          "text": [
            "Requirement already satisfied: langgraph in /usr/local/lib/python3.11/dist-packages (0.5.2)\n",
            "Requirement already satisfied: langchain in /usr/local/lib/python3.11/dist-packages (0.3.26)\n",
            "Requirement already satisfied: langsmith in /usr/local/lib/python3.11/dist-packages (0.4.4)\n",
            "Collecting langchain-groq\n",
            "  Downloading langchain_groq-0.3.5-py3-none-any.whl.metadata (2.6 kB)\n",
            "Collecting langchain-community\n",
            "  Downloading langchain_community-0.3.27-py3-none-any.whl.metadata (2.9 kB)\n",
            "Requirement already satisfied: langchain-core>=0.1 in /usr/local/lib/python3.11/dist-packages (from langgraph) (0.3.68)\n",
            "Requirement already satisfied: langgraph-checkpoint<3.0.0,>=2.1.0 in /usr/local/lib/python3.11/dist-packages (from langgraph) (2.1.0)\n",
            "Requirement already satisfied: langgraph-prebuilt<0.6.0,>=0.5.0 in /usr/local/lib/python3.11/dist-packages (from langgraph) (0.5.2)\n",
            "Requirement already satisfied: langgraph-sdk<0.2.0,>=0.1.42 in /usr/local/lib/python3.11/dist-packages (from langgraph) (0.1.72)\n",
            "Requirement already satisfied: pydantic>=2.7.4 in /usr/local/lib/python3.11/dist-packages (from langgraph) (2.11.7)\n",
            "Requirement already satisfied: xxhash>=3.5.0 in /usr/local/lib/python3.11/dist-packages (from langgraph) (3.5.0)\n",
            "Requirement already satisfied: langchain-text-splitters<1.0.0,>=0.3.8 in /usr/local/lib/python3.11/dist-packages (from langchain) (0.3.8)\n",
            "Requirement already satisfied: SQLAlchemy<3,>=1.4 in /usr/local/lib/python3.11/dist-packages (from langchain) (2.0.41)\n",
            "Requirement already satisfied: requests<3,>=2 in /usr/local/lib/python3.11/dist-packages (from langchain) (2.32.3)\n",
            "Requirement already satisfied: PyYAML>=5.3 in /usr/local/lib/python3.11/dist-packages (from langchain) (6.0.2)\n",
            "Requirement already satisfied: httpx<1,>=0.23.0 in /usr/local/lib/python3.11/dist-packages (from langsmith) (0.28.1)\n",
            "Requirement already satisfied: orjson<4.0.0,>=3.9.14 in /usr/local/lib/python3.11/dist-packages (from langsmith) (3.10.18)\n",
            "Requirement already satisfied: packaging>=23.2 in /usr/local/lib/python3.11/dist-packages (from langsmith) (24.2)\n",
            "Requirement already satisfied: requests-toolbelt<2.0.0,>=1.0.0 in /usr/local/lib/python3.11/dist-packages (from langsmith) (1.0.0)\n",
            "Requirement already satisfied: zstandard<0.24.0,>=0.23.0 in /usr/local/lib/python3.11/dist-packages (from langsmith) (0.23.0)\n",
            "Collecting groq<1,>=0.29.0 (from langchain-groq)\n",
            "  Downloading groq-0.29.0-py3-none-any.whl.metadata (16 kB)\n",
            "Requirement already satisfied: aiohttp<4.0.0,>=3.8.3 in /usr/local/lib/python3.11/dist-packages (from langchain-community) (3.11.15)\n",
            "Requirement already satisfied: tenacity!=8.4.0,<10,>=8.1.0 in /usr/local/lib/python3.11/dist-packages (from langchain-community) (8.5.0)\n",
            "Collecting dataclasses-json<0.7,>=0.5.7 (from langchain-community)\n",
            "  Downloading dataclasses_json-0.6.7-py3-none-any.whl.metadata (25 kB)\n",
            "Collecting pydantic-settings<3.0.0,>=2.4.0 (from langchain-community)\n",
            "  Downloading pydantic_settings-2.10.1-py3-none-any.whl.metadata (3.4 kB)\n",
            "Collecting httpx-sse<1.0.0,>=0.4.0 (from langchain-community)\n",
            "  Downloading httpx_sse-0.4.1-py3-none-any.whl.metadata (9.4 kB)\n",
            "Requirement already satisfied: numpy>=1.26.2 in /usr/local/lib/python3.11/dist-packages (from langchain-community) (2.0.2)\n",
            "Requirement already satisfied: aiohappyeyeballs>=2.3.0 in /usr/local/lib/python3.11/dist-packages (from aiohttp<4.0.0,>=3.8.3->langchain-community) (2.6.1)\n",
            "Requirement already satisfied: aiosignal>=1.1.2 in /usr/local/lib/python3.11/dist-packages (from aiohttp<4.0.0,>=3.8.3->langchain-community) (1.4.0)\n",
            "Requirement already satisfied: attrs>=17.3.0 in /usr/local/lib/python3.11/dist-packages (from aiohttp<4.0.0,>=3.8.3->langchain-community) (25.3.0)\n",
            "Requirement already satisfied: frozenlist>=1.1.1 in /usr/local/lib/python3.11/dist-packages (from aiohttp<4.0.0,>=3.8.3->langchain-community) (1.7.0)\n",
            "Requirement already satisfied: multidict<7.0,>=4.5 in /usr/local/lib/python3.11/dist-packages (from aiohttp<4.0.0,>=3.8.3->langchain-community) (6.6.3)\n",
            "Requirement already satisfied: propcache>=0.2.0 in /usr/local/lib/python3.11/dist-packages (from aiohttp<4.0.0,>=3.8.3->langchain-community) (0.3.2)\n",
            "Requirement already satisfied: yarl<2.0,>=1.17.0 in /usr/local/lib/python3.11/dist-packages (from aiohttp<4.0.0,>=3.8.3->langchain-community) (1.20.1)\n",
            "Collecting marshmallow<4.0.0,>=3.18.0 (from dataclasses-json<0.7,>=0.5.7->langchain-community)\n",
            "  Downloading marshmallow-3.26.1-py3-none-any.whl.metadata (7.3 kB)\n",
            "Collecting typing-inspect<1,>=0.4.0 (from dataclasses-json<0.7,>=0.5.7->langchain-community)\n",
            "  Downloading typing_inspect-0.9.0-py3-none-any.whl.metadata (1.5 kB)\n",
            "Requirement already satisfied: anyio<5,>=3.5.0 in /usr/local/lib/python3.11/dist-packages (from groq<1,>=0.29.0->langchain-groq) (4.9.0)\n",
            "Requirement already satisfied: distro<2,>=1.7.0 in /usr/local/lib/python3.11/dist-packages (from groq<1,>=0.29.0->langchain-groq) (1.9.0)\n",
            "Requirement already satisfied: sniffio in /usr/local/lib/python3.11/dist-packages (from groq<1,>=0.29.0->langchain-groq) (1.3.1)\n",
            "Requirement already satisfied: typing-extensions<5,>=4.10 in /usr/local/lib/python3.11/dist-packages (from groq<1,>=0.29.0->langchain-groq) (4.14.1)\n",
            "Requirement already satisfied: certifi in /usr/local/lib/python3.11/dist-packages (from httpx<1,>=0.23.0->langsmith) (2025.6.15)\n",
            "Requirement already satisfied: httpcore==1.* in /usr/local/lib/python3.11/dist-packages (from httpx<1,>=0.23.0->langsmith) (1.0.9)\n",
            "Requirement already satisfied: idna in /usr/local/lib/python3.11/dist-packages (from httpx<1,>=0.23.0->langsmith) (3.10)\n",
            "Requirement already satisfied: h11>=0.16 in /usr/local/lib/python3.11/dist-packages (from httpcore==1.*->httpx<1,>=0.23.0->langsmith) (0.16.0)\n",
            "Requirement already satisfied: jsonpatch<2.0,>=1.33 in /usr/local/lib/python3.11/dist-packages (from langchain-core>=0.1->langgraph) (1.33)\n",
            "Requirement already satisfied: ormsgpack>=1.10.0 in /usr/local/lib/python3.11/dist-packages (from langgraph-checkpoint<3.0.0,>=2.1.0->langgraph) (1.10.0)\n",
            "Requirement already satisfied: annotated-types>=0.6.0 in /usr/local/lib/python3.11/dist-packages (from pydantic>=2.7.4->langgraph) (0.7.0)\n",
            "Requirement already satisfied: pydantic-core==2.33.2 in /usr/local/lib/python3.11/dist-packages (from pydantic>=2.7.4->langgraph) (2.33.2)\n",
            "Requirement already satisfied: typing-inspection>=0.4.0 in /usr/local/lib/python3.11/dist-packages (from pydantic>=2.7.4->langgraph) (0.4.1)\n",
            "Collecting python-dotenv>=0.21.0 (from pydantic-settings<3.0.0,>=2.4.0->langchain-community)\n",
            "  Downloading python_dotenv-1.1.1-py3-none-any.whl.metadata (24 kB)\n",
            "Requirement already satisfied: charset-normalizer<4,>=2 in /usr/local/lib/python3.11/dist-packages (from requests<3,>=2->langchain) (3.4.2)\n",
            "Requirement already satisfied: urllib3<3,>=1.21.1 in /usr/local/lib/python3.11/dist-packages (from requests<3,>=2->langchain) (2.4.0)\n",
            "Requirement already satisfied: greenlet>=1 in /usr/local/lib/python3.11/dist-packages (from SQLAlchemy<3,>=1.4->langchain) (3.2.3)\n",
            "Requirement already satisfied: jsonpointer>=1.9 in /usr/local/lib/python3.11/dist-packages (from jsonpatch<2.0,>=1.33->langchain-core>=0.1->langgraph) (3.0.0)\n",
            "Collecting mypy-extensions>=0.3.0 (from typing-inspect<1,>=0.4.0->dataclasses-json<0.7,>=0.5.7->langchain-community)\n",
            "  Downloading mypy_extensions-1.1.0-py3-none-any.whl.metadata (1.1 kB)\n",
            "Downloading langchain_groq-0.3.5-py3-none-any.whl (15 kB)\n",
            "Downloading langchain_community-0.3.27-py3-none-any.whl (2.5 MB)\n",
            "\u001b[2K   \u001b[90m━━━━━━━━━━━━━━━━━━━━━━━━━━━━━━━━━━━━━━━━\u001b[0m \u001b[32m2.5/2.5 MB\u001b[0m \u001b[31m46.0 MB/s\u001b[0m eta \u001b[36m0:00:00\u001b[0m\n",
            "\u001b[?25hDownloading dataclasses_json-0.6.7-py3-none-any.whl (28 kB)\n",
            "Downloading groq-0.29.0-py3-none-any.whl (130 kB)\n",
            "\u001b[2K   \u001b[90m━━━━━━━━━━━━━━━━━━━━━━━━━━━━━━━━━━━━━━━━\u001b[0m \u001b[32m130.8/130.8 kB\u001b[0m \u001b[31m13.5 MB/s\u001b[0m eta \u001b[36m0:00:00\u001b[0m\n",
            "\u001b[?25hDownloading httpx_sse-0.4.1-py3-none-any.whl (8.1 kB)\n",
            "Downloading pydantic_settings-2.10.1-py3-none-any.whl (45 kB)\n",
            "\u001b[2K   \u001b[90m━━━━━━━━━━━━━━━━━━━━━━━━━━━━━━━━━━━━━━━━\u001b[0m \u001b[32m45.2/45.2 kB\u001b[0m \u001b[31m4.4 MB/s\u001b[0m eta \u001b[36m0:00:00\u001b[0m\n",
            "\u001b[?25hDownloading marshmallow-3.26.1-py3-none-any.whl (50 kB)\n",
            "\u001b[2K   \u001b[90m━━━━━━━━━━━━━━━━━━━━━━━━━━━━━━━━━━━━━━━━\u001b[0m \u001b[32m50.9/50.9 kB\u001b[0m \u001b[31m4.8 MB/s\u001b[0m eta \u001b[36m0:00:00\u001b[0m\n",
            "\u001b[?25hDownloading python_dotenv-1.1.1-py3-none-any.whl (20 kB)\n",
            "Downloading typing_inspect-0.9.0-py3-none-any.whl (8.8 kB)\n",
            "Downloading mypy_extensions-1.1.0-py3-none-any.whl (5.0 kB)\n",
            "Installing collected packages: python-dotenv, mypy-extensions, marshmallow, httpx-sse, typing-inspect, pydantic-settings, groq, dataclasses-json, langchain-groq, langchain-community\n",
            "Successfully installed dataclasses-json-0.6.7 groq-0.29.0 httpx-sse-0.4.1 langchain-community-0.3.27 langchain-groq-0.3.5 marshmallow-3.26.1 mypy-extensions-1.1.0 pydantic-settings-2.10.1 python-dotenv-1.1.1 typing-inspect-0.9.0\n"
          ]
        }
      ],
      "source": [
        "!pip install langgraph langchain langsmith langchain-groq langchain-community"
      ]
    },
    {
      "cell_type": "code",
      "source": [
        "from langchain_groq import ChatGroq"
      ],
      "metadata": {
        "id": "KT8bM9nV7g9w"
      },
      "execution_count": 3,
      "outputs": []
    },
    {
      "cell_type": "code",
      "source": [
        "llm=ChatGroq(model='Gemma2-9b-It',api_key='*********************')\n",
        "llm"
      ],
      "metadata": {
        "colab": {
          "base_uri": "https://localhost:8080/"
        },
        "id": "iesJcOm__x1i",
        "outputId": "169e584f-2afb-42d7-d4d2-b5589e77620c"
      },
      "execution_count": 4,
      "outputs": [
        {
          "output_type": "execute_result",
          "data": {
            "text/plain": [
              "ChatGroq(client=<groq.resources.chat.completions.Completions object at 0x78b53fb1bd10>, async_client=<groq.resources.chat.completions.AsyncCompletions object at 0x78b53f580450>, model_name='Gemma2-9b-It', model_kwargs={}, groq_api_key=SecretStr('**********'))"
            ]
          },
          "metadata": {},
          "execution_count": 4
        }
      ]
    },
    {
      "cell_type": "code",
      "source": [
        "import os\n",
        "os.environ['LANGCHAIN_API_KEY']=\"************************\"\n",
        "os.environ['LANGCHAIN_TRACING_V2']=\"true\"\n",
        "os.environ['LANGCHAIN_PROJECT']=\"CourseLanggraph\""
      ],
      "metadata": {
        "id": "hAALQKFF_7lk"
      },
      "execution_count": 5,
      "outputs": []
    },
    {
      "cell_type": "code",
      "source": [
        "from typing import Annotated\n",
        "from typing_extensions import TypedDict\n",
        "from langgraph.graph import StateGraph,END,START\n",
        "from langgraph.graph.message import add_messages"
      ],
      "metadata": {
        "id": "59knsMORBK_m"
      },
      "execution_count": 6,
      "outputs": []
    },
    {
      "cell_type": "code",
      "source": [
        "class State(TypedDict):\n",
        "  messages:Annotated[list,add_messages]\n",
        "\n",
        "graph_builder=StateGraph(State)"
      ],
      "metadata": {
        "id": "0W4kiko0CCyy"
      },
      "execution_count": 7,
      "outputs": []
    },
    {
      "cell_type": "code",
      "source": [
        "graph_builder"
      ],
      "metadata": {
        "colab": {
          "base_uri": "https://localhost:8080/"
        },
        "id": "ffuAE6OoCTbY",
        "outputId": "2aae2b7c-0af7-455b-e338-fdc4fca5a73f"
      },
      "execution_count": 8,
      "outputs": [
        {
          "output_type": "execute_result",
          "data": {
            "text/plain": [
              "<langgraph.graph.state.StateGraph at 0x78b52716d510>"
            ]
          },
          "metadata": {},
          "execution_count": 8
        }
      ]
    },
    {
      "cell_type": "code",
      "source": [
        "def chatbot(state:State):\n",
        "  return {'messages':llm.invoke(state['messages'])}"
      ],
      "metadata": {
        "id": "mQoMGUvxCUaU"
      },
      "execution_count": 9,
      "outputs": []
    },
    {
      "cell_type": "code",
      "source": [
        "graph_builder.add_node('chatbot',chatbot)"
      ],
      "metadata": {
        "colab": {
          "base_uri": "https://localhost:8080/"
        },
        "id": "nTudTjwzD0kX",
        "outputId": "99c1df14-b497-45fa-98b8-951d12d5cf9c"
      },
      "execution_count": 10,
      "outputs": [
        {
          "output_type": "execute_result",
          "data": {
            "text/plain": [
              "<langgraph.graph.state.StateGraph at 0x78b52716d510>"
            ]
          },
          "metadata": {},
          "execution_count": 10
        }
      ]
    },
    {
      "cell_type": "code",
      "source": [
        "graph_builder.add_edge(START,'chatbot')\n",
        "graph_builder.add_edge('chatbot',END)"
      ],
      "metadata": {
        "colab": {
          "base_uri": "https://localhost:8080/"
        },
        "id": "kARw_cYGD6Yz",
        "outputId": "2e3d113e-e86e-4532-d580-17f96885d18e"
      },
      "execution_count": 11,
      "outputs": [
        {
          "output_type": "execute_result",
          "data": {
            "text/plain": [
              "<langgraph.graph.state.StateGraph at 0x78b52716d510>"
            ]
          },
          "metadata": {},
          "execution_count": 11
        }
      ]
    },
    {
      "cell_type": "code",
      "source": [
        "graph=graph_builder.compile()"
      ],
      "metadata": {
        "id": "EIzyFlmcEXZ_"
      },
      "execution_count": 12,
      "outputs": []
    },
    {
      "cell_type": "code",
      "source": [
        "from IPython.display import Image,display\n",
        "try:\n",
        "  display(Image(graph.get_graph().draw_mermaid_png()))\n",
        "except Exception:\n",
        "  pass"
      ],
      "metadata": {
        "colab": {
          "base_uri": "https://localhost:8080/",
          "height": 251
        },
        "id": "h7l9XaEFEb3h",
        "outputId": "345df2a6-7019-457d-ebb2-e58a0c47788e"
      },
      "execution_count": 13,
      "outputs": [
        {
          "output_type": "display_data",
          "data": {
            "image/png": "[encoded data removed]",
            "text/plain": [
              "<IPython.core.display.Image object>"
            ]
          },
          "metadata": {}
        }
      ]
    },
    {
      "cell_type": "code",
      "source": [
        "while True:\n",
        "  user_input=input('User: ')\n",
        "  if user_input.lower() in ['quit','q']:\n",
        "    print('Good Bye')\n",
        "    break\n",
        "  for event in graph.stream({'messages':('user',user_input)}):\n",
        "    print(event.values())\n",
        "    for value in event.values():\n",
        "      print(value['messages'])\n",
        "      print('Assistant: ',value['messages'].content)"
      ],
      "metadata": {
        "colab": {
          "base_uri": "https://localhost:8080/"
        },
        "id": "OECKIJbtEzTB",
        "outputId": "dace9102-1f62-41f1-8803-6f09b6dea0d0"
      },
      "execution_count": 14,
      "outputs": [
        {
          "output_type": "stream",
          "name": "stdout",
          "text": [
            "User: hello\n",
            "dict_values([{'messages': AIMessage(content='Hello! 👋\\n\\nHow can I help you today? 😊\\n', additional_kwargs={}, response_metadata={'token_usage': {'completion_tokens': 15, 'prompt_tokens': 11, 'total_tokens': 26, 'completion_time': 0.027272727, 'prompt_time': 0.001891899, 'queue_time': 0.018345061, 'total_time': 0.029164626}, 'model_name': 'Gemma2-9b-It', 'system_fingerprint': 'fp_10c08bf97d', 'finish_reason': 'stop', 'logprobs': None}, id='run--fdc4b140-ca38-4ea4-90d2-af394ad95055-0', usage_metadata={'input_tokens': 11, 'output_tokens': 15, 'total_tokens': 26})}])\n",
            "content='Hello! 👋\\n\\nHow can I help you today? 😊\\n' additional_kwargs={} response_metadata={'token_usage': {'completion_tokens': 15, 'prompt_tokens': 11, 'total_tokens': 26, 'completion_time': 0.027272727, 'prompt_time': 0.001891899, 'queue_time': 0.018345061, 'total_time': 0.029164626}, 'model_name': 'Gemma2-9b-It', 'system_fingerprint': 'fp_10c08bf97d', 'finish_reason': 'stop', 'logprobs': None} id='run--fdc4b140-ca38-4ea4-90d2-af394ad95055-0' usage_metadata={'input_tokens': 11, 'output_tokens': 15, 'total_tokens': 26}\n",
            "Assistant:  Hello! 👋\n",
            "\n",
            "How can I help you today? 😊\n",
            "\n",
            "User: main component of object tracking?\n",
            "dict_values([{'messages': AIMessage(content=\"Object tracking is a complex task with many components, but the **main component** is arguably the **object representation**. \\n\\nHere's why:\\n\\n* **Foundation for Detection:**  The way you represent an object (e.g., its shape, color, texture, motion) directly influences how effectively you can detect it across frames in a video.\\n* **Handling Occlusion and Deformation:**  Objects can be partially or fully obscured (occlusion) or change shape (deformation) over time.  A robust object representation needs to be flexible enough to handle these challenges.\\n* **Distinguishing Objects:**  When multiple objects of similar types are present, a good representation helps differentiate them.\\n\\n**Common Object Representations Used:**\\n\\n* **Bounding Boxes:** The simplest representation, defining an object's location as a rectangular box.\\n* **Keypoints:**  Highlighting distinctive points on an object's contour.\\n* **Feature Descriptors:**  Capturing local image features (e.g., SIFT, HOG) that are associated with the object.\\n* **Deep Learning Features:**  Employing convolutional neural networks (CNNs) to learn complex, hierarchical representations of objects from image data.\\n\\n**Beyond Representation:**\\n\\nWhile object representation is crucial, other key components of object tracking include:\\n\\n* **Detection Algorithm:**  Used to identify the object in each frame.\\n* **Tracking Algorithm:**  Follows the object across frames, updating its position and potentially refining its representation.\\n* **Data Association:**  Matching detections across frames to the correct tracked object, especially when occlusions or object clutter occur.\\n\\nLet me know if you'd like to delve deeper into any specific aspect of object tracking!\\n\", additional_kwargs={}, response_metadata={'token_usage': {'completion_tokens': 354, 'prompt_tokens': 15, 'total_tokens': 369, 'completion_time': 0.643636364, 'prompt_time': 0.001874839, 'queue_time': 0.018923859, 'total_time': 0.645511203}, 'model_name': 'Gemma2-9b-It', 'system_fingerprint': 'fp_10c08bf97d', 'finish_reason': 'stop', 'logprobs': None}, id='run--524f7e08-2909-47a8-a875-9286a6654151-0', usage_metadata={'input_tokens': 15, 'output_tokens': 354, 'total_tokens': 369})}])\n",
            "content=\"Object tracking is a complex task with many components, but the **main component** is arguably the **object representation**. \\n\\nHere's why:\\n\\n* **Foundation for Detection:**  The way you represent an object (e.g., its shape, color, texture, motion) directly influences how effectively you can detect it across frames in a video.\\n* **Handling Occlusion and Deformation:**  Objects can be partially or fully obscured (occlusion) or change shape (deformation) over time.  A robust object representation needs to be flexible enough to handle these challenges.\\n* **Distinguishing Objects:**  When multiple objects of similar types are present, a good representation helps differentiate them.\\n\\n**Common Object Representations Used:**\\n\\n* **Bounding Boxes:** The simplest representation, defining an object's location as a rectangular box.\\n* **Keypoints:**  Highlighting distinctive points on an object's contour.\\n* **Feature Descriptors:**  Capturing local image features (e.g., SIFT, HOG) that are associated with the object.\\n* **Deep Learning Features:**  Employing convolutional neural networks (CNNs) to learn complex, hierarchical representations of objects from image data.\\n\\n**Beyond Representation:**\\n\\nWhile object representation is crucial, other key components of object tracking include:\\n\\n* **Detection Algorithm:**  Used to identify the object in each frame.\\n* **Tracking Algorithm:**  Follows the object across frames, updating its position and potentially refining its representation.\\n* **Data Association:**  Matching detections across frames to the correct tracked object, especially when occlusions or object clutter occur.\\n\\nLet me know if you'd like to delve deeper into any specific aspect of object tracking!\\n\" additional_kwargs={} response_metadata={'token_usage': {'completion_tokens': 354, 'prompt_tokens': 15, 'total_tokens': 369, 'completion_time': 0.643636364, 'prompt_time': 0.001874839, 'queue_time': 0.018923859, 'total_time': 0.645511203}, 'model_name': 'Gemma2-9b-It', 'system_fingerprint': 'fp_10c08bf97d', 'finish_reason': 'stop', 'logprobs': None} id='run--524f7e08-2909-47a8-a875-9286a6654151-0' usage_metadata={'input_tokens': 15, 'output_tokens': 354, 'total_tokens': 369}\n",
            "Assistant:  Object tracking is a complex task with many components, but the **main component** is arguably the **object representation**. \n",
            "\n",
            "Here's why:\n",
            "\n",
            "* **Foundation for Detection:**  The way you represent an object (e.g., its shape, color, texture, motion) directly influences how effectively you can detect it across frames in a video.\n",
            "* **Handling Occlusion and Deformation:**  Objects can be partially or fully obscured (occlusion) or change shape (deformation) over time.  A robust object representation needs to be flexible enough to handle these challenges.\n",
            "* **Distinguishing Objects:**  When multiple objects of similar types are present, a good representation helps differentiate them.\n",
            "\n",
            "**Common Object Representations Used:**\n",
            "\n",
            "* **Bounding Boxes:** The simplest representation, defining an object's location as a rectangular box.\n",
            "* **Keypoints:**  Highlighting distinctive points on an object's contour.\n",
            "* **Feature Descriptors:**  Capturing local image features (e.g., SIFT, HOG) that are associated with the object.\n",
            "* **Deep Learning Features:**  Employing convolutional neural networks (CNNs) to learn complex, hierarchical representations of objects from image data.\n",
            "\n",
            "**Beyond Representation:**\n",
            "\n",
            "While object representation is crucial, other key components of object tracking include:\n",
            "\n",
            "* **Detection Algorithm:**  Used to identify the object in each frame.\n",
            "* **Tracking Algorithm:**  Follows the object across frames, updating its position and potentially refining its representation.\n",
            "* **Data Association:**  Matching detections across frames to the correct tracked object, especially when occlusions or object clutter occur.\n",
            "\n",
            "Let me know if you'd like to delve deeper into any specific aspect of object tracking!\n",
            "\n",
            "User: which algo use in object tracking\n",
            "dict_values([{'messages': AIMessage(content='Object tracking algorithms are a fascinating field with many different approaches! \\n\\nThere\\'s no single \"best\" algorithm, as the ideal choice depends on factors like the type of objects, the complexity of the scene, the desired accuracy, and computational resources.\\n\\nHere\\'s a breakdown of some popular object tracking algorithms categorized by their general approach:\\n\\n**1. Correlation-based Methods:**\\n\\n* **KCF (Kernelized Correlation Filter):**  Very fast and efficient, works well for single object tracking.\\n* **CSRT (Channel & Spatial Reliability):** An improvement over KCF, handles occlusions and scale changes better.\\n* **DSST ( Discriminative Scale Space Tracking):**  Also handles scale variations effectively.\\n\\n**2. Deep Learning-based Methods:**\\n\\n* **Siamese Networks:** Use a network to learn a similarity function between image patches, effectively comparing the current frame to past frames to find the target. Examples include:\\n    * **SiamRPN:**  Uses a Region Proposal Network (RPN) to locate the target.\\n    * **SiamFC:** A simpler Siamese network that learns a fixed-size feature map.\\n* **Tracker-GAN:**  Generative Adversarial Networks are used to generate synthetic images of the target, improving robustness.\\n\\n**3. Other Techniques:**\\n\\n* **Kalman Filter:** A statistical method for predicting the future position of an object based on its past movements. Works well for constant velocity objects.\\n* **Particle Filters:**  A more general approach to state estimation, using a set of particles to represent the possible locations of the object.\\n\\n**Choosing the Right Algorithm:**\\n\\n* **Speed vs. Accuracy:** Correlation-based methods are generally faster but less accurate than deep learning methods. \\n* **Occlusions:**  CSRT, DSST, and deep learning methods are better at handling occlusions.\\n* **Scale Changes:**  CSRT, DSST, and some deep learning methods handle scale changes well.\\n* **Computational Resources:**  Deep learning methods require more computational power than correlation-based methods.\\n\\n**Resources for Further Exploration:**\\n\\n* **OpenCV:**  A popular computer vision library with implementations of many object tracking algorithms: [https://opencv.org/](https://opencv.org/)\\n* **PyTorch and TensorFlow:** Deep learning frameworks that can be used to implement and experiment with deep learning-based trackers.\\n\\nLet me know if you have any more specific questions about object tracking algorithms!\\n', additional_kwargs={}, response_metadata={'token_usage': {'completion_tokens': 518, 'prompt_tokens': 15, 'total_tokens': 533, 'completion_time': 0.941818182, 'prompt_time': 0.002064379, 'queue_time': 0.016545750999999997, 'total_time': 0.943882561}, 'model_name': 'Gemma2-9b-It', 'system_fingerprint': 'fp_10c08bf97d', 'finish_reason': 'stop', 'logprobs': None}, id='run--79f13c59-7290-4f99-be87-d89fc4ab567c-0', usage_metadata={'input_tokens': 15, 'output_tokens': 518, 'total_tokens': 533})}])\n",
            "content='Object tracking algorithms are a fascinating field with many different approaches! \\n\\nThere\\'s no single \"best\" algorithm, as the ideal choice depends on factors like the type of objects, the complexity of the scene, the desired accuracy, and computational resources.\\n\\nHere\\'s a breakdown of some popular object tracking algorithms categorized by their general approach:\\n\\n**1. Correlation-based Methods:**\\n\\n* **KCF (Kernelized Correlation Filter):**  Very fast and efficient, works well for single object tracking.\\n* **CSRT (Channel & Spatial Reliability):** An improvement over KCF, handles occlusions and scale changes better.\\n* **DSST ( Discriminative Scale Space Tracking):**  Also handles scale variations effectively.\\n\\n**2. Deep Learning-based Methods:**\\n\\n* **Siamese Networks:** Use a network to learn a similarity function between image patches, effectively comparing the current frame to past frames to find the target. Examples include:\\n    * **SiamRPN:**  Uses a Region Proposal Network (RPN) to locate the target.\\n    * **SiamFC:** A simpler Siamese network that learns a fixed-size feature map.\\n* **Tracker-GAN:**  Generative Adversarial Networks are used to generate synthetic images of the target, improving robustness.\\n\\n**3. Other Techniques:**\\n\\n* **Kalman Filter:** A statistical method for predicting the future position of an object based on its past movements. Works well for constant velocity objects.\\n* **Particle Filters:**  A more general approach to state estimation, using a set of particles to represent the possible locations of the object.\\n\\n**Choosing the Right Algorithm:**\\n\\n* **Speed vs. Accuracy:** Correlation-based methods are generally faster but less accurate than deep learning methods. \\n* **Occlusions:**  CSRT, DSST, and deep learning methods are better at handling occlusions.\\n* **Scale Changes:**  CSRT, DSST, and some deep learning methods handle scale changes well.\\n* **Computational Resources:**  Deep learning methods require more computational power than correlation-based methods.\\n\\n**Resources for Further Exploration:**\\n\\n* **OpenCV:**  A popular computer vision library with implementations of many object tracking algorithms: [https://opencv.org/](https://opencv.org/)\\n* **PyTorch and TensorFlow:** Deep learning frameworks that can be used to implement and experiment with deep learning-based trackers.\\n\\nLet me know if you have any more specific questions about object tracking algorithms!\\n' additional_kwargs={} response_metadata={'token_usage': {'completion_tokens': 518, 'prompt_tokens': 15, 'total_tokens': 533, 'completion_time': 0.941818182, 'prompt_time': 0.002064379, 'queue_time': 0.016545750999999997, 'total_time': 0.943882561}, 'model_name': 'Gemma2-9b-It', 'system_fingerprint': 'fp_10c08bf97d', 'finish_reason': 'stop', 'logprobs': None} id='run--79f13c59-7290-4f99-be87-d89fc4ab567c-0' usage_metadata={'input_tokens': 15, 'output_tokens': 518, 'total_tokens': 533}\n",
            "Assistant:  Object tracking algorithms are a fascinating field with many different approaches! \n",
            "\n",
            "There's no single \"best\" algorithm, as the ideal choice depends on factors like the type of objects, the complexity of the scene, the desired accuracy, and computational resources.\n",
            "\n",
            "Here's a breakdown of some popular object tracking algorithms categorized by their general approach:\n",
            "\n",
            "**1. Correlation-based Methods:**\n",
            "\n",
            "* **KCF (Kernelized Correlation Filter):**  Very fast and efficient, works well for single object tracking.\n",
            "* **CSRT (Channel & Spatial Reliability):** An improvement over KCF, handles occlusions and scale changes better.\n",
            "* **DSST ( Discriminative Scale Space Tracking):**  Also handles scale variations effectively.\n",
            "\n",
            "**2. Deep Learning-based Methods:**\n",
            "\n",
            "* **Siamese Networks:** Use a network to learn a similarity function between image patches, effectively comparing the current frame to past frames to find the target. Examples include:\n",
            "    * **SiamRPN:**  Uses a Region Proposal Network (RPN) to locate the target.\n",
            "    * **SiamFC:** A simpler Siamese network that learns a fixed-size feature map.\n",
            "* **Tracker-GAN:**  Generative Adversarial Networks are used to generate synthetic images of the target, improving robustness.\n",
            "\n",
            "**3. Other Techniques:**\n",
            "\n",
            "* **Kalman Filter:** A statistical method for predicting the future position of an object based on its past movements. Works well for constant velocity objects.\n",
            "* **Particle Filters:**  A more general approach to state estimation, using a set of particles to represent the possible locations of the object.\n",
            "\n",
            "**Choosing the Right Algorithm:**\n",
            "\n",
            "* **Speed vs. Accuracy:** Correlation-based methods are generally faster but less accurate than deep learning methods. \n",
            "* **Occlusions:**  CSRT, DSST, and deep learning methods are better at handling occlusions.\n",
            "* **Scale Changes:**  CSRT, DSST, and some deep learning methods handle scale changes well.\n",
            "* **Computational Resources:**  Deep learning methods require more computational power than correlation-based methods.\n",
            "\n",
            "**Resources for Further Exploration:**\n",
            "\n",
            "* **OpenCV:**  A popular computer vision library with implementations of many object tracking algorithms: [https://opencv.org/](https://opencv.org/)\n",
            "* **PyTorch and TensorFlow:** Deep learning frameworks that can be used to implement and experiment with deep learning-based trackers.\n",
            "\n",
            "Let me know if you have any more specific questions about object tracking algorithms!\n",
            "\n",
            "User: q\n",
            "Good Bye\n"
          ]
        }
      ]
    },
    {
      "cell_type": "code",
      "source": [],
      "metadata": {
        "id": "YhOfS7awGBxA"
      },
      "execution_count": null,
      "outputs": []
    }
  ]
}